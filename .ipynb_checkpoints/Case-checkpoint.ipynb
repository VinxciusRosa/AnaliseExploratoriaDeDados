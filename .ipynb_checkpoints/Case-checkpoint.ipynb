{
 "cells": [
  {
   "cell_type": "code",
   "execution_count": 40,
   "id": "242d90ea",
   "metadata": {},
   "outputs": [
    {
     "name": "stdout",
     "output_type": "stream",
     "text": [
      "Requirement already satisfied: seaborn in c:\\programdata\\anaconda3\\lib\\site-packages (0.11.1)\n",
      "Requirement already satisfied: scipy>=1.0 in c:\\programdata\\anaconda3\\lib\\site-packages (from seaborn) (1.6.2)\n",
      "Requirement already satisfied: matplotlib>=2.2 in c:\\programdata\\anaconda3\\lib\\site-packages (from seaborn) (3.3.4)\n",
      "Requirement already satisfied: pandas>=0.23 in c:\\programdata\\anaconda3\\lib\\site-packages (from seaborn) (1.2.4)\n",
      "Requirement already satisfied: numpy>=1.15 in c:\\programdata\\anaconda3\\lib\\site-packages (from seaborn) (1.20.1)\n",
      "Requirement already satisfied: pyparsing!=2.0.4,!=2.1.2,!=2.1.6,>=2.0.3 in c:\\programdata\\anaconda3\\lib\\site-packages (from matplotlib>=2.2->seaborn) (2.4.7)\n",
      "Requirement already satisfied: python-dateutil>=2.1 in c:\\programdata\\anaconda3\\lib\\site-packages (from matplotlib>=2.2->seaborn) (2.8.1)\n",
      "Requirement already satisfied: pillow>=6.2.0 in c:\\programdata\\anaconda3\\lib\\site-packages (from matplotlib>=2.2->seaborn) (8.2.0)\n",
      "Requirement already satisfied: kiwisolver>=1.0.1 in c:\\programdata\\anaconda3\\lib\\site-packages (from matplotlib>=2.2->seaborn) (1.3.1)\n",
      "Requirement already satisfied: cycler>=0.10 in c:\\programdata\\anaconda3\\lib\\site-packages (from matplotlib>=2.2->seaborn) (0.10.0)\n",
      "Requirement already satisfied: six in c:\\programdata\\anaconda3\\lib\\site-packages (from cycler>=0.10->matplotlib>=2.2->seaborn) (1.15.0)\n",
      "Requirement already satisfied: pytz>=2017.3 in c:\\programdata\\anaconda3\\lib\\site-packages (from pandas>=0.23->seaborn) (2021.1)\n"
     ]
    }
   ],
   "source": [
    "#importando as blibliotecas para analisar e manipular os dados\n",
    "import pandas as pd \n",
    "import numpy as np\n",
    "import matplotlib.pyplot as plt\n",
    "import colorsys\n",
    "!pip install seaborn --upgrade\n",
    "import seaborn as sns\n",
    "\n",
    "\n",
    "#estilos prontos para criar um gráfico\n",
    "plt.style.use('seaborn-talk') \n",
    "\n",
    "import warnings\n",
    "warnings.filterwarnings(\"ignore\")\n",
    "\n",
    "#gera os gráficos dentro do notebook\n",
    "%matplotlib inline"
   ]
  },
  {
   "cell_type": "markdown",
   "id": "4d759c01",
   "metadata": {},
   "source": [
    "### Abrindo o arquivo csv e informando a quantidade de linhas e colunas que a tabela possui "
   ]
  },
  {
   "cell_type": "code",
   "execution_count": 41,
   "id": "0c198f5b",
   "metadata": {},
   "outputs": [
    {
     "data": {
      "text/plain": [
       "(160, 23)"
      ]
     },
     "execution_count": 41,
     "metadata": {},
     "output_type": "execute_result"
    }
   ],
   "source": [
    "#abrindo o arquivo csv com os dados referente aos bairros do Rio de Janeiro \n",
    "dadosCSV = pd.read_csv('.\\dados.csv')\n",
    "\n",
    "#informa a quantidade de linhas e colunas que a tabela possui\n",
    "dadosCSV.shape "
   ]
  },
  {
   "cell_type": "markdown",
   "id": "073f1a95",
   "metadata": {},
   "source": [
    "### LENDO A TABELA DE DADOS "
   ]
  },
  {
   "cell_type": "code",
   "execution_count": 42,
   "id": "a5d57606",
   "metadata": {},
   "outputs": [
    {
     "name": "stdout",
     "output_type": "stream",
     "text": [
      "       codigo               nome          cidade estado  população  popAte9  \\\n",
      "0  3304557060           Abolição  Rio de Janeiro     RJ      11676     1027   \n",
      "1  3304557138              Acari  Rio de Janeiro     RJ      27564     5131   \n",
      "2  3304557057         Água Santa  Rio de Janeiro     RJ       9003      883   \n",
      "3  3304557031  Alto Da Boa Vista  Rio de Janeiro     RJ       9606     1072   \n",
      "4  3304557125           Anchieta  Rio de Janeiro     RJ      57222     7677   \n",
      "\n",
      "   popDe10a14  popDe15a19  popDe20a24  popDe25a34  ...  domiciliosA1  \\\n",
      "0         483         688         800        1675  ...             0   \n",
      "1        2188        2697        2630        4810  ...             0   \n",
      "2         399         597         762        1755  ...             0   \n",
      "3         538         660         685        1317  ...           114   \n",
      "4        3774        4892        4600        8660  ...             0   \n",
      "\n",
      "   domiciliosA2  domiciliosB1  domiciliosB2  domiciliosC1  domiciliosC2  \\\n",
      "0           145           715          1242          1093           758   \n",
      "1             0            82           506          2040          2490   \n",
      "2            96           404           652           644           522   \n",
      "3           178           393           517           945           584   \n",
      "4             0          1089          2821          5110          5422   \n",
      "\n",
      "   domiciliosD  domiciliosE  rendaMedia  faturamento  \n",
      "0           92          304      2501.0     932515.0  \n",
      "1          827         2506       931.0     588833.0  \n",
      "2           77          254      2391.0     874200.0  \n",
      "3          137          286      3727.0     912226.0  \n",
      "4         1073         3261      1380.0     553020.0  \n",
      "\n",
      "[5 rows x 23 columns]\n"
     ]
    }
   ],
   "source": [
    "print(dadosCSV.head()) #imprimir a tabela com os dados"
   ]
  },
  {
   "cell_type": "markdown",
   "id": "4f93a6d8",
   "metadata": {},
   "source": [
    "### MOSTRANDO AS INFORMAÇÕES SOBRE OS DADOS"
   ]
  },
  {
   "cell_type": "code",
   "execution_count": 43,
   "id": "bac8b3db",
   "metadata": {},
   "outputs": [
    {
     "name": "stdout",
     "output_type": "stream",
     "text": [
      "<class 'pandas.core.frame.DataFrame'>\n",
      "RangeIndex: 160 entries, 0 to 159\n",
      "Data columns (total 23 columns):\n",
      " #   Column        Non-Null Count  Dtype  \n",
      "---  ------        --------------  -----  \n",
      " 0   codigo        160 non-null    int64  \n",
      " 1   nome          160 non-null    object \n",
      " 2   cidade        160 non-null    object \n",
      " 3   estado        160 non-null    object \n",
      " 4   população     160 non-null    int64  \n",
      " 5   popAte9       160 non-null    int64  \n",
      " 6   popDe10a14    160 non-null    int64  \n",
      " 7   popDe15a19    160 non-null    int64  \n",
      " 8   popDe20a24    160 non-null    int64  \n",
      " 9   popDe25a34    160 non-null    int64  \n",
      " 10  popDe35a49    160 non-null    int64  \n",
      " 11  popDe50a59    160 non-null    int64  \n",
      " 12  popMaisDe60   160 non-null    int64  \n",
      " 13  domiciliosA1  160 non-null    int64  \n",
      " 14  domiciliosA2  160 non-null    int64  \n",
      " 15  domiciliosB1  160 non-null    int64  \n",
      " 16  domiciliosB2  160 non-null    int64  \n",
      " 17  domiciliosC1  160 non-null    int64  \n",
      " 18  domiciliosC2  160 non-null    int64  \n",
      " 19  domiciliosD   160 non-null    int64  \n",
      " 20  domiciliosE   160 non-null    int64  \n",
      " 21  rendaMedia    154 non-null    float64\n",
      " 22  faturamento   160 non-null    float64\n",
      "dtypes: float64(2), int64(18), object(3)\n",
      "memory usage: 28.9+ KB\n",
      "None\n"
     ]
    }
   ],
   "source": [
    "#A partir das informações obtidas, observamos que na coluna \"rendaMedia\" possuem 6 valores NULOS (NULL)\n",
    "print(dadosCSV.info()) "
   ]
  },
  {
   "cell_type": "markdown",
   "id": "9c56cd70",
   "metadata": {},
   "source": [
    "### SUBSTITUINDO OS VALORES NULLs POR \"0\" e VERIFICANDO SE OS VALORES FORAM SUBSTITUIDOS"
   ]
  },
  {
   "cell_type": "code",
   "execution_count": 44,
   "id": "a86f41a8",
   "metadata": {},
   "outputs": [
    {
     "name": "stdout",
     "output_type": "stream",
     "text": [
      "<class 'pandas.core.frame.DataFrame'>\n",
      "RangeIndex: 160 entries, 0 to 159\n",
      "Data columns (total 23 columns):\n",
      " #   Column        Non-Null Count  Dtype  \n",
      "---  ------        --------------  -----  \n",
      " 0   codigo        160 non-null    int64  \n",
      " 1   nome          160 non-null    object \n",
      " 2   cidade        160 non-null    object \n",
      " 3   estado        160 non-null    object \n",
      " 4   população     160 non-null    int64  \n",
      " 5   popAte9       160 non-null    int64  \n",
      " 6   popDe10a14    160 non-null    int64  \n",
      " 7   popDe15a19    160 non-null    int64  \n",
      " 8   popDe20a24    160 non-null    int64  \n",
      " 9   popDe25a34    160 non-null    int64  \n",
      " 10  popDe35a49    160 non-null    int64  \n",
      " 11  popDe50a59    160 non-null    int64  \n",
      " 12  popMaisDe60   160 non-null    int64  \n",
      " 13  domiciliosA1  160 non-null    int64  \n",
      " 14  domiciliosA2  160 non-null    int64  \n",
      " 15  domiciliosB1  160 non-null    int64  \n",
      " 16  domiciliosB2  160 non-null    int64  \n",
      " 17  domiciliosC1  160 non-null    int64  \n",
      " 18  domiciliosC2  160 non-null    int64  \n",
      " 19  domiciliosD   160 non-null    int64  \n",
      " 20  domiciliosE   160 non-null    int64  \n",
      " 21  rendaMedia    160 non-null    float64\n",
      " 22  faturamento   160 non-null    float64\n",
      "dtypes: float64(2), int64(18), object(3)\n",
      "memory usage: 28.9+ KB\n",
      "None\n"
     ]
    }
   ],
   "source": [
    "#Substituindo os valores NULLs por 0:\n",
    "dadosCSV.fillna(0, inplace = True) \n",
    "#verificando se os valores NULLSs foram realmente substituidos\n",
    "print(dadosCSV.info())"
   ]
  },
  {
   "cell_type": "markdown",
   "id": "d5e7d9b7",
   "metadata": {},
   "source": [
    "#### SOMATÓRIA DA POPULAÇÃO DOS BAIRROS DO RIO DE JANEIRO ATÉ 9 ANOS DE IDADE"
   ]
  },
  {
   "cell_type": "code",
   "execution_count": 45,
   "id": "28d512f7",
   "metadata": {},
   "outputs": [],
   "source": [
    "#RETORNA SOMENTE A SOMATÓRIA DA População até 9 anos de idade \n",
    "popAte9 = dadosCSV['popAte9'].cumsum().iloc[-1]"
   ]
  },
  {
   "cell_type": "markdown",
   "id": "6efa78fc",
   "metadata": {},
   "source": [
    "#### SOMATÓRIA DA POPULAÇÃO DOS BAIRROS DO RIO DE JANEIRO ENTRE 10 A 14 ANOS\n"
   ]
  },
  {
   "cell_type": "code",
   "execution_count": 46,
   "id": "31af133f",
   "metadata": {},
   "outputs": [],
   "source": [
    "popDe10a14 = dadosCSV['popDe10a14'].cumsum().iloc[-1] #RETORNA SOMENTE A SOMATÓRIA DA População entre 10 a 14 anos de idade"
   ]
  },
  {
   "cell_type": "markdown",
   "id": "e7841234",
   "metadata": {},
   "source": [
    "#### SOMATÓRIA DA POPULAÇÃO DOS BAIRROS DO RIO DE JANEIRO ENTRE 15 A 19 ANOS\n"
   ]
  },
  {
   "cell_type": "code",
   "execution_count": 47,
   "id": "1135dcfa",
   "metadata": {},
   "outputs": [],
   "source": [
    "popDe15a19 = dadosCSV['popDe15a19'].cumsum().iloc[-1] #RETORNA SOMENTE A SOMATÓRIA DA População entre 15 a 19 anos de idade"
   ]
  },
  {
   "cell_type": "markdown",
   "id": "30638325",
   "metadata": {},
   "source": [
    "#### SOMATÓRIA DA POPULAÇÃO DOS BAIRROS DO RIO DE JANEIRO ENTRE 20 A 24 ANOS\n"
   ]
  },
  {
   "cell_type": "code",
   "execution_count": 48,
   "id": "4234a4e7",
   "metadata": {},
   "outputs": [],
   "source": [
    "popDe20a24 = dadosCSV['popDe20a24'].cumsum().iloc[-1] #RETORNA SOMENTE A SOMATÓRIA DA População entre 20 a 24 anos de idade"
   ]
  },
  {
   "cell_type": "markdown",
   "id": "9deaa43d",
   "metadata": {},
   "source": [
    "#### SOMATÓRIA DA POPULAÇÃO DOS BAIRROS DO RIO DE JANEIRO ENTRE 25 A 34 ANOS\n"
   ]
  },
  {
   "cell_type": "code",
   "execution_count": 49,
   "id": "0297ef34",
   "metadata": {},
   "outputs": [],
   "source": [
    "popDe25a34 = dadosCSV['popDe25a34'].cumsum().iloc[-1] #RETORNA SOMENTE A SOMATÓRIA DA População entre 25 a 34 anos de idade"
   ]
  },
  {
   "cell_type": "markdown",
   "id": "02eab298",
   "metadata": {},
   "source": [
    "#### SOMATÓRIA DA POPULAÇÃO DOS BAIRROS DO RIO DE JANEIRO ENTRE 35 A 49 ANOS\n"
   ]
  },
  {
   "cell_type": "code",
   "execution_count": 50,
   "id": "9b1aee70",
   "metadata": {},
   "outputs": [],
   "source": [
    "popDe35a49 = dadosCSV['popDe35a49'].cumsum().iloc[-1] #RETORNA SOMENTE A SOMATÓRIA DA População entre 35 a 49 anos de idade"
   ]
  },
  {
   "cell_type": "markdown",
   "id": "3338ce90",
   "metadata": {},
   "source": [
    "#### SOMATÓRIA DA POPULAÇÃO DOS BAIRROS DO RIO DE JANEIRO ENTRE 50 A 59 ANOS\n"
   ]
  },
  {
   "cell_type": "code",
   "execution_count": 51,
   "id": "36d68be0",
   "metadata": {},
   "outputs": [],
   "source": [
    "popDe50a59 = dadosCSV['popDe50a59'].cumsum().iloc[-1] #RETORNA SOMENTE A SOMATÓRIA DA População entre 50 a 59 anos de idade"
   ]
  },
  {
   "cell_type": "markdown",
   "id": "71e1ef5b",
   "metadata": {},
   "source": [
    "#### SOMATÓRIA DA POPULAÇÃO DOS BAIRROS DO RIO DE JANEIRO DE 60 ANOS OU MAIS\n"
   ]
  },
  {
   "cell_type": "code",
   "execution_count": 52,
   "id": "37a4405c",
   "metadata": {},
   "outputs": [],
   "source": [
    "popMaisDe60 = dadosCSV['popMaisDe60'].cumsum().iloc[-1] #RETORNA SOMENTE A SOMATÓRIA DA População com mais de 60 anos de idade"
   ]
  },
  {
   "cell_type": "markdown",
   "id": "3d684491",
   "metadata": {},
   "source": [
    "#### LISTA COM OS VALORES DE CADA SOMATÓRIA QUE FORAM REALIZADAS "
   ]
  },
  {
   "cell_type": "code",
   "execution_count": 53,
   "id": "4affa21d",
   "metadata": {},
   "outputs": [
    {
     "name": "stdout",
     "output_type": "stream",
     "text": [
      "[852650, 397511, 523545, 535901, 1053516, 1412298, 853162, 1196113]\n"
     ]
    }
   ],
   "source": [
    "listaPop = [popAte9,popDe10a14,popDe15a19,popDe20a24,popDe25a34, popDe35a49,popDe50a59, popMaisDe60]\n",
    "print(listaPop)"
   ]
  },
  {
   "cell_type": "markdown",
   "id": "16403391",
   "metadata": {},
   "source": [
    "## GERANDO O GRÁFICO PARA REALIZAR OS DOIS PRIMEIROS INSIGHTS"
   ]
  },
  {
   "cell_type": "code",
   "execution_count": 54,
   "id": "8c9ea055",
   "metadata": {},
   "outputs": [
    {
     "data": {
      "image/png": "[encoded data removed]",
      "text/plain": [
       "<Figure size 504x504 with 1 Axes>"
      ]
     },
     "metadata": {},
     "output_type": "display_data"
    }
   ],
   "source": [
    "#GERANDO O GRÁFICO \n",
    "\n",
    "plt.figure(figsize=(7,7))\n",
    "legenda =['popAte9', 'popDe10a14', 'popDe15a19', 'popDe20a24', 'popDe25a34', 'popDe35a49', 'popDe50a59', 'popMaisDe60']\n",
    "plt.pie(x = listaPop, labels= legenda, autopct = '%.1f%%', radius = 1)\n",
    "plt.show()"
   ]
  },
  {
   "cell_type": "markdown",
   "id": "3c2fd0ca",
   "metadata": {},
   "source": [
    "# Somatória da população dos Bairros do Rio de Janeiro: qual é a idade predominate ?\n",
    "\n",
    "##### Resposta: População - de 35 a 49 anos\n"
   ]
  },
  {
   "cell_type": "markdown",
   "id": "5e731815",
   "metadata": {},
   "source": [
    "# Somatória da população dos Bairros do Rio de Janeiro: qual é a idade minoritária?\n",
    "##### Resposta: População - de 10 a 14 anos\n"
   ]
  },
  {
   "cell_type": "markdown",
   "id": "b15b56bd",
   "metadata": {},
   "source": [
    "## Definindo a faixa etária da população do RIO DE JANEIRO "
   ]
  },
  {
   "cell_type": "code",
   "execution_count": 55,
   "id": "40076787",
   "metadata": {},
   "outputs": [],
   "source": [
    "#jovens - do nascimento até aos 19 anos de idade;\n",
    "#adultos - corresponde à população que possui entre 20 a 59 anos de idade;\n",
    "#idosos - pessoas que apresentam 60 anos de idade ou mais;\n",
    "\n",
    "jovens = popAte9 + popDe10a14 + popDe15a19\n",
    "adultos = popDe20a24 + popDe25a34 + popDe35a49 + popDe50a59\n",
    "idosos = popMaisDe60\n",
    "faixaEtaria = [jovens, adultos, idosos]"
   ]
  },
  {
   "cell_type": "code",
   "execution_count": 56,
   "id": "bf5070ea",
   "metadata": {},
   "outputs": [
    {
     "data": {
      "image/png": "[encoded data removed]",
      "text/plain": [
       "<Figure size 504x504 with 1 Axes>"
      ]
     },
     "metadata": {},
     "output_type": "display_data"
    }
   ],
   "source": [
    "#gerando o gráfico das faixas etárias da população do RIO DE JANEIRO\n",
    "\n",
    "plt.figure(figsize=(7,7))\n",
    "leg =['Jovens','Adultos', 'Idosos']\n",
    "plt.pie(x = faixaEtaria, labels= leg, autopct = '%.1f%%', radius = 1)\n",
    "plt.show()"
   ]
  },
  {
   "cell_type": "markdown",
   "id": "0434f744",
   "metadata": {},
   "source": [
    "# Faixa etária dominante da população dos bairros do RIO DE JANEIRO?\n",
    "#### ADULTOS - de 20 A 59 anos de idade"
   ]
  },
  {
   "cell_type": "markdown",
   "id": "0ec89298",
   "metadata": {},
   "source": [
    "### SOMATÓRIA: DomiciliosA1, DomiciliosA2, DomiciliosB1, DomiciliosB2, DomiciliosC1, DomiciliosC2, DomiciliosD, DomiciliosE\n"
   ]
  },
  {
   "cell_type": "code",
   "execution_count": 57,
   "id": "ab36798f",
   "metadata": {},
   "outputs": [],
   "source": [
    "Total_DomiciliosA1 = dadosCSV['domiciliosA1'].cumsum().iloc[-1]"
   ]
  },
  {
   "cell_type": "code",
   "execution_count": 58,
   "id": "826c25e7",
   "metadata": {},
   "outputs": [],
   "source": [
    "Total_DomiciliosA2 = dadosCSV['domiciliosA2'].cumsum().iloc[-1]"
   ]
  },
  {
   "cell_type": "code",
   "execution_count": 59,
   "id": "6bc915eb",
   "metadata": {},
   "outputs": [],
   "source": [
    "Total_DomiciliosB1 = dadosCSV['domiciliosB1'].cumsum().iloc[-1]"
   ]
  },
  {
   "cell_type": "code",
   "execution_count": 60,
   "id": "3277aa00",
   "metadata": {},
   "outputs": [],
   "source": [
    "Total_DomiciliosB2 = dadosCSV['domiciliosB2'].cumsum().iloc[-1]"
   ]
  },
  {
   "cell_type": "code",
   "execution_count": 61,
   "id": "c0c3c966",
   "metadata": {},
   "outputs": [],
   "source": [
    "Total_DomiciliosC1 = dadosCSV['domiciliosC1'].cumsum().iloc[-1]"
   ]
  },
  {
   "cell_type": "code",
   "execution_count": 62,
   "id": "e751a71d",
   "metadata": {},
   "outputs": [],
   "source": [
    "Total_DomiciliosC2 = dadosCSV['domiciliosC2'].cumsum().iloc[-1]"
   ]
  },
  {
   "cell_type": "code",
   "execution_count": 63,
   "id": "9c1a787d",
   "metadata": {},
   "outputs": [],
   "source": [
    "Total_DomiciliosD = dadosCSV['domiciliosD'].cumsum().iloc[-1]"
   ]
  },
  {
   "cell_type": "code",
   "execution_count": 64,
   "id": "8ca77e51",
   "metadata": {},
   "outputs": [],
   "source": [
    "Total_DomiciliosE = dadosCSV['domiciliosE'].cumsum().iloc[-1]"
   ]
  },
  {
   "cell_type": "code",
   "execution_count": 65,
   "id": "21195282",
   "metadata": {},
   "outputs": [
    {
     "name": "stdout",
     "output_type": "stream",
     "text": [
      "[62156, 97323, 299450, 381612, 566376, 484929, 90940, 291458]\n"
     ]
    }
   ],
   "source": [
    "listaDomicilios = [Total_DomiciliosA1,Total_DomiciliosA2, Total_DomiciliosB1,Total_DomiciliosB2,Total_DomiciliosC1,\n",
    "            Total_DomiciliosC2, Total_DomiciliosD, Total_DomiciliosE]\n",
    "print(listaDomicilios)"
   ]
  },
  {
   "cell_type": "code",
   "execution_count": null,
   "id": "92243279",
   "metadata": {},
   "outputs": [],
   "source": []
  },
  {
   "cell_type": "code",
   "execution_count": 66,
   "id": "a66af789",
   "metadata": {},
   "outputs": [
    {
     "data": {
      "image/png": "[encoded data removed]",
      "text/plain": [
       "<Figure size 504x504 with 1 Axes>"
      ]
     },
     "metadata": {},
     "output_type": "display_data"
    }
   ],
   "source": [
    "#GERANDO O GRÁFICO \n",
    "plt.figure(figsize=(7,7))\n",
    "legenda1 =['domiciliosA1','domiciliosA2', 'domiciliosB1', 'domiciliosB2', 'domiciliosC1', 'domiciliosC2', 'domiciliosD', 'domiciliosE'  ]\n",
    "plt.pie(x = listaDomicilios, labels= legenda1, autopct = '%.1f%%', radius = 1)\n",
    "plt.show()"
   ]
  },
  {
   "cell_type": "code",
   "execution_count": 86,
   "id": "ab772c81",
   "metadata": {},
   "outputs": [
    {
     "data": {
      "text/html": [
       "<div>\n",
       "<style scoped>\n",
       "    .dataframe tbody tr th:only-of-type {\n",
       "        vertical-align: middle;\n",
       "    }\n",
       "\n",
       "    .dataframe tbody tr th {\n",
       "        vertical-align: top;\n",
       "    }\n",
       "\n",
       "    .dataframe thead th {\n",
       "        text-align: right;\n",
       "    }\n",
       "</style>\n",
       "<table border=\"1\" class=\"dataframe\">\n",
       "  <thead>\n",
       "    <tr style=\"text-align: right;\">\n",
       "      <th></th>\n",
       "      <th>popDe20a24</th>\n",
       "      <th>popDe25a34</th>\n",
       "      <th>popDe35a49</th>\n",
       "      <th>popDe50a59</th>\n",
       "      <th>popMaisDe60</th>\n",
       "      <th>domiciliosA1</th>\n",
       "      <th>domiciliosA2</th>\n",
       "      <th>domiciliosB1</th>\n",
       "      <th>domiciliosB2</th>\n",
       "      <th>domiciliosC1</th>\n",
       "      <th>domiciliosC2</th>\n",
       "      <th>domiciliosD</th>\n",
       "      <th>domiciliosE</th>\n",
       "    </tr>\n",
       "  </thead>\n",
       "  <tbody>\n",
       "    <tr>\n",
       "      <th>popDe20a24</th>\n",
       "      <td>1.000000</td>\n",
       "      <td>0.981342</td>\n",
       "      <td>0.967448</td>\n",
       "      <td>0.969580</td>\n",
       "      <td>0.873030</td>\n",
       "      <td>0.103014</td>\n",
       "      <td>0.200898</td>\n",
       "      <td>0.474706</td>\n",
       "      <td>0.856208</td>\n",
       "      <td>0.913433</td>\n",
       "      <td>0.861188</td>\n",
       "      <td>0.833742</td>\n",
       "      <td>0.809816</td>\n",
       "    </tr>\n",
       "    <tr>\n",
       "      <th>popDe25a34</th>\n",
       "      <td>0.981342</td>\n",
       "      <td>1.000000</td>\n",
       "      <td>0.994647</td>\n",
       "      <td>0.969477</td>\n",
       "      <td>0.902734</td>\n",
       "      <td>0.198600</td>\n",
       "      <td>0.303916</td>\n",
       "      <td>0.563934</td>\n",
       "      <td>0.907814</td>\n",
       "      <td>0.951993</td>\n",
       "      <td>0.902184</td>\n",
       "      <td>0.874031</td>\n",
       "      <td>0.863436</td>\n",
       "    </tr>\n",
       "    <tr>\n",
       "      <th>popDe35a49</th>\n",
       "      <td>0.967448</td>\n",
       "      <td>0.994647</td>\n",
       "      <td>1.000000</td>\n",
       "      <td>0.973315</td>\n",
       "      <td>0.916271</td>\n",
       "      <td>0.224111</td>\n",
       "      <td>0.328107</td>\n",
       "      <td>0.588285</td>\n",
       "      <td>0.924404</td>\n",
       "      <td>0.958461</td>\n",
       "      <td>0.905541</td>\n",
       "      <td>0.878573</td>\n",
       "      <td>0.873529</td>\n",
       "    </tr>\n",
       "    <tr>\n",
       "      <th>popDe50a59</th>\n",
       "      <td>0.969580</td>\n",
       "      <td>0.969477</td>\n",
       "      <td>0.973315</td>\n",
       "      <td>1.000000</td>\n",
       "      <td>0.956639</td>\n",
       "      <td>0.247188</td>\n",
       "      <td>0.363377</td>\n",
       "      <td>0.634230</td>\n",
       "      <td>0.924839</td>\n",
       "      <td>0.902424</td>\n",
       "      <td>0.807894</td>\n",
       "      <td>0.774645</td>\n",
       "      <td>0.773025</td>\n",
       "    </tr>\n",
       "    <tr>\n",
       "      <th>popMaisDe60</th>\n",
       "      <td>0.873030</td>\n",
       "      <td>0.902734</td>\n",
       "      <td>0.916271</td>\n",
       "      <td>0.956639</td>\n",
       "      <td>1.000000</td>\n",
       "      <td>0.397839</td>\n",
       "      <td>0.550859</td>\n",
       "      <td>0.802572</td>\n",
       "      <td>0.956781</td>\n",
       "      <td>0.846138</td>\n",
       "      <td>0.715222</td>\n",
       "      <td>0.677137</td>\n",
       "      <td>0.703864</td>\n",
       "    </tr>\n",
       "    <tr>\n",
       "      <th>domiciliosA1</th>\n",
       "      <td>0.103014</td>\n",
       "      <td>0.198600</td>\n",
       "      <td>0.224111</td>\n",
       "      <td>0.247188</td>\n",
       "      <td>0.397839</td>\n",
       "      <td>1.000000</td>\n",
       "      <td>0.925528</td>\n",
       "      <td>0.716429</td>\n",
       "      <td>0.257212</td>\n",
       "      <td>0.047665</td>\n",
       "      <td>-0.040489</td>\n",
       "      <td>-0.071094</td>\n",
       "      <td>0.064017</td>\n",
       "    </tr>\n",
       "    <tr>\n",
       "      <th>domiciliosA2</th>\n",
       "      <td>0.200898</td>\n",
       "      <td>0.303916</td>\n",
       "      <td>0.328107</td>\n",
       "      <td>0.363377</td>\n",
       "      <td>0.550859</td>\n",
       "      <td>0.925528</td>\n",
       "      <td>1.000000</td>\n",
       "      <td>0.897215</td>\n",
       "      <td>0.441760</td>\n",
       "      <td>0.169332</td>\n",
       "      <td>0.035787</td>\n",
       "      <td>-0.000543</td>\n",
       "      <td>0.112079</td>\n",
       "    </tr>\n",
       "    <tr>\n",
       "      <th>domiciliosB1</th>\n",
       "      <td>0.474706</td>\n",
       "      <td>0.563934</td>\n",
       "      <td>0.588285</td>\n",
       "      <td>0.634230</td>\n",
       "      <td>0.802572</td>\n",
       "      <td>0.716429</td>\n",
       "      <td>0.897215</td>\n",
       "      <td>1.000000</td>\n",
       "      <td>0.746122</td>\n",
       "      <td>0.476211</td>\n",
       "      <td>0.303474</td>\n",
       "      <td>0.260272</td>\n",
       "      <td>0.326595</td>\n",
       "    </tr>\n",
       "    <tr>\n",
       "      <th>domiciliosB2</th>\n",
       "      <td>0.856208</td>\n",
       "      <td>0.907814</td>\n",
       "      <td>0.924404</td>\n",
       "      <td>0.924839</td>\n",
       "      <td>0.956781</td>\n",
       "      <td>0.257212</td>\n",
       "      <td>0.441760</td>\n",
       "      <td>0.746122</td>\n",
       "      <td>1.000000</td>\n",
       "      <td>0.920353</td>\n",
       "      <td>0.798720</td>\n",
       "      <td>0.761225</td>\n",
       "      <td>0.753009</td>\n",
       "    </tr>\n",
       "    <tr>\n",
       "      <th>domiciliosC1</th>\n",
       "      <td>0.913433</td>\n",
       "      <td>0.951993</td>\n",
       "      <td>0.958461</td>\n",
       "      <td>0.902424</td>\n",
       "      <td>0.846138</td>\n",
       "      <td>0.047665</td>\n",
       "      <td>0.169332</td>\n",
       "      <td>0.476211</td>\n",
       "      <td>0.920353</td>\n",
       "      <td>1.000000</td>\n",
       "      <td>0.961131</td>\n",
       "      <td>0.940490</td>\n",
       "      <td>0.903726</td>\n",
       "    </tr>\n",
       "    <tr>\n",
       "      <th>domiciliosC2</th>\n",
       "      <td>0.861188</td>\n",
       "      <td>0.902184</td>\n",
       "      <td>0.905541</td>\n",
       "      <td>0.807894</td>\n",
       "      <td>0.715222</td>\n",
       "      <td>-0.040489</td>\n",
       "      <td>0.035787</td>\n",
       "      <td>0.303474</td>\n",
       "      <td>0.798720</td>\n",
       "      <td>0.961131</td>\n",
       "      <td>1.000000</td>\n",
       "      <td>0.988414</td>\n",
       "      <td>0.956662</td>\n",
       "    </tr>\n",
       "    <tr>\n",
       "      <th>domiciliosD</th>\n",
       "      <td>0.833742</td>\n",
       "      <td>0.874031</td>\n",
       "      <td>0.878573</td>\n",
       "      <td>0.774645</td>\n",
       "      <td>0.677137</td>\n",
       "      <td>-0.071094</td>\n",
       "      <td>-0.000543</td>\n",
       "      <td>0.260272</td>\n",
       "      <td>0.761225</td>\n",
       "      <td>0.940490</td>\n",
       "      <td>0.988414</td>\n",
       "      <td>1.000000</td>\n",
       "      <td>0.955073</td>\n",
       "    </tr>\n",
       "    <tr>\n",
       "      <th>domiciliosE</th>\n",
       "      <td>0.809816</td>\n",
       "      <td>0.863436</td>\n",
       "      <td>0.873529</td>\n",
       "      <td>0.773025</td>\n",
       "      <td>0.703864</td>\n",
       "      <td>0.064017</td>\n",
       "      <td>0.112079</td>\n",
       "      <td>0.326595</td>\n",
       "      <td>0.753009</td>\n",
       "      <td>0.903726</td>\n",
       "      <td>0.956662</td>\n",
       "      <td>0.955073</td>\n",
       "      <td>1.000000</td>\n",
       "    </tr>\n",
       "  </tbody>\n",
       "</table>\n",
       "</div>"
      ],
      "text/plain": [
       "              popDe20a24  popDe25a34  popDe35a49  popDe50a59  popMaisDe60  \\\n",
       "popDe20a24      1.000000    0.981342    0.967448    0.969580     0.873030   \n",
       "popDe25a34      0.981342    1.000000    0.994647    0.969477     0.902734   \n",
       "popDe35a49      0.967448    0.994647    1.000000    0.973315     0.916271   \n",
       "popDe50a59      0.969580    0.969477    0.973315    1.000000     0.956639   \n",
       "popMaisDe60     0.873030    0.902734    0.916271    0.956639     1.000000   \n",
       "domiciliosA1    0.103014    0.198600    0.224111    0.247188     0.397839   \n",
       "domiciliosA2    0.200898    0.303916    0.328107    0.363377     0.550859   \n",
       "domiciliosB1    0.474706    0.563934    0.588285    0.634230     0.802572   \n",
       "domiciliosB2    0.856208    0.907814    0.924404    0.924839     0.956781   \n",
       "domiciliosC1    0.913433    0.951993    0.958461    0.902424     0.846138   \n",
       "domiciliosC2    0.861188    0.902184    0.905541    0.807894     0.715222   \n",
       "domiciliosD     0.833742    0.874031    0.878573    0.774645     0.677137   \n",
       "domiciliosE     0.809816    0.863436    0.873529    0.773025     0.703864   \n",
       "\n",
       "              domiciliosA1  domiciliosA2  domiciliosB1  domiciliosB2  \\\n",
       "popDe20a24        0.103014      0.200898      0.474706      0.856208   \n",
       "popDe25a34        0.198600      0.303916      0.563934      0.907814   \n",
       "popDe35a49        0.224111      0.328107      0.588285      0.924404   \n",
       "popDe50a59        0.247188      0.363377      0.634230      0.924839   \n",
       "popMaisDe60       0.397839      0.550859      0.802572      0.956781   \n",
       "domiciliosA1      1.000000      0.925528      0.716429      0.257212   \n",
       "domiciliosA2      0.925528      1.000000      0.897215      0.441760   \n",
       "domiciliosB1      0.716429      0.897215      1.000000      0.746122   \n",
       "domiciliosB2      0.257212      0.441760      0.746122      1.000000   \n",
       "domiciliosC1      0.047665      0.169332      0.476211      0.920353   \n",
       "domiciliosC2     -0.040489      0.035787      0.303474      0.798720   \n",
       "domiciliosD      -0.071094     -0.000543      0.260272      0.761225   \n",
       "domiciliosE       0.064017      0.112079      0.326595      0.753009   \n",
       "\n",
       "              domiciliosC1  domiciliosC2  domiciliosD  domiciliosE  \n",
       "popDe20a24        0.913433      0.861188     0.833742     0.809816  \n",
       "popDe25a34        0.951993      0.902184     0.874031     0.863436  \n",
       "popDe35a49        0.958461      0.905541     0.878573     0.873529  \n",
       "popDe50a59        0.902424      0.807894     0.774645     0.773025  \n",
       "popMaisDe60       0.846138      0.715222     0.677137     0.703864  \n",
       "domiciliosA1      0.047665     -0.040489    -0.071094     0.064017  \n",
       "domiciliosA2      0.169332      0.035787    -0.000543     0.112079  \n",
       "domiciliosB1      0.476211      0.303474     0.260272     0.326595  \n",
       "domiciliosB2      0.920353      0.798720     0.761225     0.753009  \n",
       "domiciliosC1      1.000000      0.961131     0.940490     0.903726  \n",
       "domiciliosC2      0.961131      1.000000     0.988414     0.956662  \n",
       "domiciliosD       0.940490      0.988414     1.000000     0.955073  \n",
       "domiciliosE       0.903726      0.956662     0.955073     1.000000  "
      ]
     },
     "execution_count": 86,
     "metadata": {},
     "output_type": "execute_result"
    }
   ],
   "source": [
    "#correlação da faixa estária adulta (20 a 59 anos) com a Quantidade de Domicílios de Renda A1, A2 , B1, B2, C1, C2, D e E\n",
    "dadosCSV[['popDe20a24', 'popDe25a34', 'popDe35a49', 'popDe50a59', 'popMaisDe60','domiciliosA1','domiciliosA2','domiciliosB1','domiciliosB2','domiciliosC1','domiciliosC2','domiciliosD','domiciliosE']].corr()"
   ]
  },
  {
   "cell_type": "code",
   "execution_count": null,
   "id": "c6ca964d",
   "metadata": {},
   "outputs": [],
   "source": []
  },
  {
   "cell_type": "code",
   "execution_count": null,
   "id": "9b8782ed",
   "metadata": {},
   "outputs": [],
   "source": []
  },
  {
   "cell_type": "code",
   "execution_count": null,
   "id": "ea0e0d5f",
   "metadata": {},
   "outputs": [],
   "source": []
  },
  {
   "cell_type": "code",
   "execution_count": 87,
   "id": "7d93264a",
   "metadata": {},
   "outputs": [
    {
     "data": {
      "text/html": [
       "<div>\n",
       "<style scoped>\n",
       "    .dataframe tbody tr th:only-of-type {\n",
       "        vertical-align: middle;\n",
       "    }\n",
       "\n",
       "    .dataframe tbody tr th {\n",
       "        vertical-align: top;\n",
       "    }\n",
       "\n",
       "    .dataframe thead th {\n",
       "        text-align: right;\n",
       "    }\n",
       "</style>\n",
       "<table border=\"1\" class=\"dataframe\">\n",
       "  <thead>\n",
       "    <tr style=\"text-align: right;\">\n",
       "      <th></th>\n",
       "      <th>domiciliosA1</th>\n",
       "      <th>domiciliosA2</th>\n",
       "      <th>domiciliosB1</th>\n",
       "      <th>domiciliosB2</th>\n",
       "      <th>domiciliosC1</th>\n",
       "      <th>domiciliosC2</th>\n",
       "      <th>domiciliosD</th>\n",
       "      <th>domiciliosE</th>\n",
       "      <th>popAte9</th>\n",
       "      <th>popDe10a14</th>\n",
       "      <th>popDe15a19</th>\n",
       "    </tr>\n",
       "  </thead>\n",
       "  <tbody>\n",
       "    <tr>\n",
       "      <th>domiciliosA1</th>\n",
       "      <td>1.000000</td>\n",
       "      <td>0.925528</td>\n",
       "      <td>0.716429</td>\n",
       "      <td>0.257212</td>\n",
       "      <td>0.047665</td>\n",
       "      <td>-0.040489</td>\n",
       "      <td>-0.071094</td>\n",
       "      <td>0.064017</td>\n",
       "      <td>0.043099</td>\n",
       "      <td>0.029706</td>\n",
       "      <td>0.059684</td>\n",
       "    </tr>\n",
       "    <tr>\n",
       "      <th>domiciliosA2</th>\n",
       "      <td>0.925528</td>\n",
       "      <td>1.000000</td>\n",
       "      <td>0.897215</td>\n",
       "      <td>0.441760</td>\n",
       "      <td>0.169332</td>\n",
       "      <td>0.035787</td>\n",
       "      <td>-0.000543</td>\n",
       "      <td>0.112079</td>\n",
       "      <td>0.118759</td>\n",
       "      <td>0.108616</td>\n",
       "      <td>0.147259</td>\n",
       "    </tr>\n",
       "    <tr>\n",
       "      <th>domiciliosB1</th>\n",
       "      <td>0.716429</td>\n",
       "      <td>0.897215</td>\n",
       "      <td>1.000000</td>\n",
       "      <td>0.746122</td>\n",
       "      <td>0.476211</td>\n",
       "      <td>0.303474</td>\n",
       "      <td>0.260272</td>\n",
       "      <td>0.326595</td>\n",
       "      <td>0.384971</td>\n",
       "      <td>0.383258</td>\n",
       "      <td>0.425413</td>\n",
       "    </tr>\n",
       "    <tr>\n",
       "      <th>domiciliosB2</th>\n",
       "      <td>0.257212</td>\n",
       "      <td>0.441760</td>\n",
       "      <td>0.746122</td>\n",
       "      <td>1.000000</td>\n",
       "      <td>0.920353</td>\n",
       "      <td>0.798720</td>\n",
       "      <td>0.761225</td>\n",
       "      <td>0.753009</td>\n",
       "      <td>0.790162</td>\n",
       "      <td>0.797436</td>\n",
       "      <td>0.835775</td>\n",
       "    </tr>\n",
       "    <tr>\n",
       "      <th>domiciliosC1</th>\n",
       "      <td>0.047665</td>\n",
       "      <td>0.169332</td>\n",
       "      <td>0.476211</td>\n",
       "      <td>0.920353</td>\n",
       "      <td>1.000000</td>\n",
       "      <td>0.961131</td>\n",
       "      <td>0.940490</td>\n",
       "      <td>0.903726</td>\n",
       "      <td>0.870195</td>\n",
       "      <td>0.876245</td>\n",
       "      <td>0.910146</td>\n",
       "    </tr>\n",
       "    <tr>\n",
       "      <th>domiciliosC2</th>\n",
       "      <td>-0.040489</td>\n",
       "      <td>0.035787</td>\n",
       "      <td>0.303474</td>\n",
       "      <td>0.798720</td>\n",
       "      <td>0.961131</td>\n",
       "      <td>1.000000</td>\n",
       "      <td>0.988414</td>\n",
       "      <td>0.956662</td>\n",
       "      <td>0.831198</td>\n",
       "      <td>0.835387</td>\n",
       "      <td>0.869813</td>\n",
       "    </tr>\n",
       "    <tr>\n",
       "      <th>domiciliosD</th>\n",
       "      <td>-0.071094</td>\n",
       "      <td>-0.000543</td>\n",
       "      <td>0.260272</td>\n",
       "      <td>0.761225</td>\n",
       "      <td>0.940490</td>\n",
       "      <td>0.988414</td>\n",
       "      <td>1.000000</td>\n",
       "      <td>0.955073</td>\n",
       "      <td>0.808531</td>\n",
       "      <td>0.813732</td>\n",
       "      <td>0.846498</td>\n",
       "    </tr>\n",
       "    <tr>\n",
       "      <th>domiciliosE</th>\n",
       "      <td>0.064017</td>\n",
       "      <td>0.112079</td>\n",
       "      <td>0.326595</td>\n",
       "      <td>0.753009</td>\n",
       "      <td>0.903726</td>\n",
       "      <td>0.956662</td>\n",
       "      <td>0.955073</td>\n",
       "      <td>1.000000</td>\n",
       "      <td>0.781555</td>\n",
       "      <td>0.784861</td>\n",
       "      <td>0.821901</td>\n",
       "    </tr>\n",
       "    <tr>\n",
       "      <th>popAte9</th>\n",
       "      <td>0.043099</td>\n",
       "      <td>0.118759</td>\n",
       "      <td>0.384971</td>\n",
       "      <td>0.790162</td>\n",
       "      <td>0.870195</td>\n",
       "      <td>0.831198</td>\n",
       "      <td>0.808531</td>\n",
       "      <td>0.781555</td>\n",
       "      <td>1.000000</td>\n",
       "      <td>0.999140</td>\n",
       "      <td>0.994495</td>\n",
       "    </tr>\n",
       "    <tr>\n",
       "      <th>popDe10a14</th>\n",
       "      <td>0.029706</td>\n",
       "      <td>0.108616</td>\n",
       "      <td>0.383258</td>\n",
       "      <td>0.797436</td>\n",
       "      <td>0.876245</td>\n",
       "      <td>0.835387</td>\n",
       "      <td>0.813732</td>\n",
       "      <td>0.784861</td>\n",
       "      <td>0.999140</td>\n",
       "      <td>1.000000</td>\n",
       "      <td>0.995850</td>\n",
       "    </tr>\n",
       "    <tr>\n",
       "      <th>popDe15a19</th>\n",
       "      <td>0.059684</td>\n",
       "      <td>0.147259</td>\n",
       "      <td>0.425413</td>\n",
       "      <td>0.835775</td>\n",
       "      <td>0.910146</td>\n",
       "      <td>0.869813</td>\n",
       "      <td>0.846498</td>\n",
       "      <td>0.821901</td>\n",
       "      <td>0.994495</td>\n",
       "      <td>0.995850</td>\n",
       "      <td>1.000000</td>\n",
       "    </tr>\n",
       "  </tbody>\n",
       "</table>\n",
       "</div>"
      ],
      "text/plain": [
       "              domiciliosA1  domiciliosA2  domiciliosB1  domiciliosB2  \\\n",
       "domiciliosA1      1.000000      0.925528      0.716429      0.257212   \n",
       "domiciliosA2      0.925528      1.000000      0.897215      0.441760   \n",
       "domiciliosB1      0.716429      0.897215      1.000000      0.746122   \n",
       "domiciliosB2      0.257212      0.441760      0.746122      1.000000   \n",
       "domiciliosC1      0.047665      0.169332      0.476211      0.920353   \n",
       "domiciliosC2     -0.040489      0.035787      0.303474      0.798720   \n",
       "domiciliosD      -0.071094     -0.000543      0.260272      0.761225   \n",
       "domiciliosE       0.064017      0.112079      0.326595      0.753009   \n",
       "popAte9           0.043099      0.118759      0.384971      0.790162   \n",
       "popDe10a14        0.029706      0.108616      0.383258      0.797436   \n",
       "popDe15a19        0.059684      0.147259      0.425413      0.835775   \n",
       "\n",
       "              domiciliosC1  domiciliosC2  domiciliosD  domiciliosE   popAte9  \\\n",
       "domiciliosA1      0.047665     -0.040489    -0.071094     0.064017  0.043099   \n",
       "domiciliosA2      0.169332      0.035787    -0.000543     0.112079  0.118759   \n",
       "domiciliosB1      0.476211      0.303474     0.260272     0.326595  0.384971   \n",
       "domiciliosB2      0.920353      0.798720     0.761225     0.753009  0.790162   \n",
       "domiciliosC1      1.000000      0.961131     0.940490     0.903726  0.870195   \n",
       "domiciliosC2      0.961131      1.000000     0.988414     0.956662  0.831198   \n",
       "domiciliosD       0.940490      0.988414     1.000000     0.955073  0.808531   \n",
       "domiciliosE       0.903726      0.956662     0.955073     1.000000  0.781555   \n",
       "popAte9           0.870195      0.831198     0.808531     0.781555  1.000000   \n",
       "popDe10a14        0.876245      0.835387     0.813732     0.784861  0.999140   \n",
       "popDe15a19        0.910146      0.869813     0.846498     0.821901  0.994495   \n",
       "\n",
       "              popDe10a14  popDe15a19  \n",
       "domiciliosA1    0.029706    0.059684  \n",
       "domiciliosA2    0.108616    0.147259  \n",
       "domiciliosB1    0.383258    0.425413  \n",
       "domiciliosB2    0.797436    0.835775  \n",
       "domiciliosC1    0.876245    0.910146  \n",
       "domiciliosC2    0.835387    0.869813  \n",
       "domiciliosD     0.813732    0.846498  \n",
       "domiciliosE     0.784861    0.821901  \n",
       "popAte9         0.999140    0.994495  \n",
       "popDe10a14      1.000000    0.995850  \n",
       "popDe15a19      0.995850    1.000000  "
      ]
     },
     "execution_count": 87,
     "metadata": {},
     "output_type": "execute_result"
    }
   ],
   "source": [
    "dadosCSV[['domiciliosA1','domiciliosA2','domiciliosB1','domiciliosB2','domiciliosC1','domiciliosC2','domiciliosD','domiciliosE','popAte9','popDe10a14','popDe15a19']].corr()"
   ]
  },
  {
   "cell_type": "code",
   "execution_count": 94,
   "id": "a0f07f22",
   "metadata": {},
   "outputs": [
    {
     "data": {
      "text/html": [
       "<div>\n",
       "<style scoped>\n",
       "    .dataframe tbody tr th:only-of-type {\n",
       "        vertical-align: middle;\n",
       "    }\n",
       "\n",
       "    .dataframe tbody tr th {\n",
       "        vertical-align: top;\n",
       "    }\n",
       "\n",
       "    .dataframe thead th {\n",
       "        text-align: right;\n",
       "    }\n",
       "</style>\n",
       "<table border=\"1\" class=\"dataframe\">\n",
       "  <thead>\n",
       "    <tr style=\"text-align: right;\">\n",
       "      <th></th>\n",
       "      <th>população</th>\n",
       "      <th>domiciliosA1</th>\n",
       "      <th>domiciliosA2</th>\n",
       "      <th>domiciliosB1</th>\n",
       "      <th>domiciliosB2</th>\n",
       "      <th>domiciliosC1</th>\n",
       "      <th>domiciliosC2</th>\n",
       "      <th>domiciliosE</th>\n",
       "      <th>domiciliosD</th>\n",
       "      <th>faturamento</th>\n",
       "    </tr>\n",
       "  </thead>\n",
       "  <tbody>\n",
       "    <tr>\n",
       "      <th>0</th>\n",
       "      <td>11676</td>\n",
       "      <td>0</td>\n",
       "      <td>145</td>\n",
       "      <td>715</td>\n",
       "      <td>1242</td>\n",
       "      <td>1093</td>\n",
       "      <td>758</td>\n",
       "      <td>304</td>\n",
       "      <td>92</td>\n",
       "      <td>932515.0</td>\n",
       "    </tr>\n",
       "    <tr>\n",
       "      <th>1</th>\n",
       "      <td>27564</td>\n",
       "      <td>0</td>\n",
       "      <td>0</td>\n",
       "      <td>82</td>\n",
       "      <td>506</td>\n",
       "      <td>2040</td>\n",
       "      <td>2490</td>\n",
       "      <td>2506</td>\n",
       "      <td>827</td>\n",
       "      <td>588833.0</td>\n",
       "    </tr>\n",
       "    <tr>\n",
       "      <th>2</th>\n",
       "      <td>9003</td>\n",
       "      <td>0</td>\n",
       "      <td>96</td>\n",
       "      <td>404</td>\n",
       "      <td>652</td>\n",
       "      <td>644</td>\n",
       "      <td>522</td>\n",
       "      <td>254</td>\n",
       "      <td>77</td>\n",
       "      <td>874200.0</td>\n",
       "    </tr>\n",
       "    <tr>\n",
       "      <th>3</th>\n",
       "      <td>9606</td>\n",
       "      <td>114</td>\n",
       "      <td>178</td>\n",
       "      <td>393</td>\n",
       "      <td>517</td>\n",
       "      <td>945</td>\n",
       "      <td>584</td>\n",
       "      <td>286</td>\n",
       "      <td>137</td>\n",
       "      <td>912226.0</td>\n",
       "    </tr>\n",
       "    <tr>\n",
       "      <th>4</th>\n",
       "      <td>57222</td>\n",
       "      <td>0</td>\n",
       "      <td>0</td>\n",
       "      <td>1089</td>\n",
       "      <td>2821</td>\n",
       "      <td>5110</td>\n",
       "      <td>5422</td>\n",
       "      <td>3261</td>\n",
       "      <td>1073</td>\n",
       "      <td>553020.0</td>\n",
       "    </tr>\n",
       "    <tr>\n",
       "      <th>...</th>\n",
       "      <td>...</td>\n",
       "      <td>...</td>\n",
       "      <td>...</td>\n",
       "      <td>...</td>\n",
       "      <td>...</td>\n",
       "      <td>...</td>\n",
       "      <td>...</td>\n",
       "      <td>...</td>\n",
       "      <td>...</td>\n",
       "      <td>...</td>\n",
       "    </tr>\n",
       "    <tr>\n",
       "      <th>155</th>\n",
       "      <td>18791</td>\n",
       "      <td>0</td>\n",
       "      <td>259</td>\n",
       "      <td>774</td>\n",
       "      <td>1363</td>\n",
       "      <td>1923</td>\n",
       "      <td>1379</td>\n",
       "      <td>405</td>\n",
       "      <td>190</td>\n",
       "      <td>901446.0</td>\n",
       "    </tr>\n",
       "    <tr>\n",
       "      <th>156</th>\n",
       "      <td>13556</td>\n",
       "      <td>0</td>\n",
       "      <td>219</td>\n",
       "      <td>714</td>\n",
       "      <td>828</td>\n",
       "      <td>1051</td>\n",
       "      <td>1012</td>\n",
       "      <td>465</td>\n",
       "      <td>116</td>\n",
       "      <td>849731.0</td>\n",
       "    </tr>\n",
       "    <tr>\n",
       "      <th>157</th>\n",
       "      <td>33190</td>\n",
       "      <td>0</td>\n",
       "      <td>906</td>\n",
       "      <td>2866</td>\n",
       "      <td>2241</td>\n",
       "      <td>2982</td>\n",
       "      <td>1200</td>\n",
       "      <td>772</td>\n",
       "      <td>360</td>\n",
       "      <td>1127042.0</td>\n",
       "    </tr>\n",
       "    <tr>\n",
       "      <th>158</th>\n",
       "      <td>8867</td>\n",
       "      <td>0</td>\n",
       "      <td>87</td>\n",
       "      <td>556</td>\n",
       "      <td>836</td>\n",
       "      <td>940</td>\n",
       "      <td>484</td>\n",
       "      <td>214</td>\n",
       "      <td>75</td>\n",
       "      <td>921875.0</td>\n",
       "    </tr>\n",
       "    <tr>\n",
       "      <th>159</th>\n",
       "      <td>2072</td>\n",
       "      <td>0</td>\n",
       "      <td>89</td>\n",
       "      <td>234</td>\n",
       "      <td>177</td>\n",
       "      <td>147</td>\n",
       "      <td>72</td>\n",
       "      <td>47</td>\n",
       "      <td>10</td>\n",
       "      <td>919451.0</td>\n",
       "    </tr>\n",
       "  </tbody>\n",
       "</table>\n",
       "<p>160 rows × 10 columns</p>\n",
       "</div>"
      ],
      "text/plain": [
       "     população  domiciliosA1  domiciliosA2  domiciliosB1  domiciliosB2  \\\n",
       "0        11676             0           145           715          1242   \n",
       "1        27564             0             0            82           506   \n",
       "2         9003             0            96           404           652   \n",
       "3         9606           114           178           393           517   \n",
       "4        57222             0             0          1089          2821   \n",
       "..         ...           ...           ...           ...           ...   \n",
       "155      18791             0           259           774          1363   \n",
       "156      13556             0           219           714           828   \n",
       "157      33190             0           906          2866          2241   \n",
       "158       8867             0            87           556           836   \n",
       "159       2072             0            89           234           177   \n",
       "\n",
       "     domiciliosC1  domiciliosC2  domiciliosE  domiciliosD  faturamento  \n",
       "0            1093           758          304           92     932515.0  \n",
       "1            2040          2490         2506          827     588833.0  \n",
       "2             644           522          254           77     874200.0  \n",
       "3             945           584          286          137     912226.0  \n",
       "4            5110          5422         3261         1073     553020.0  \n",
       "..            ...           ...          ...          ...          ...  \n",
       "155          1923          1379          405          190     901446.0  \n",
       "156          1051          1012          465          116     849731.0  \n",
       "157          2982          1200          772          360    1127042.0  \n",
       "158           940           484          214           75     921875.0  \n",
       "159           147            72           47           10     919451.0  \n",
       "\n",
       "[160 rows x 10 columns]"
      ]
     },
     "execution_count": 94,
     "metadata": {},
     "output_type": "execute_result"
    }
   ],
   "source": [
    "dadosCSV_copy = dadosCSV[['população','domiciliosA1','domiciliosA2', 'domiciliosB1', 'domiciliosB2', 'domiciliosC1', 'domiciliosC2', 'domiciliosE', 'domiciliosD','faturamento']]\n",
    "dadosCSV_copy\n"
   ]
  },
  {
   "cell_type": "code",
   "execution_count": null,
   "id": "cf98b3b5",
   "metadata": {},
   "outputs": [],
   "source": []
  },
  {
   "cell_type": "code",
   "execution_count": null,
   "id": "b2822b2e",
   "metadata": {},
   "outputs": [],
   "source": []
  },
  {
   "cell_type": "code",
   "execution_count": null,
   "id": "672e8056",
   "metadata": {},
   "outputs": [],
   "source": []
  },
  {
   "cell_type": "code",
   "execution_count": 73,
   "id": "7222c4e9",
   "metadata": {},
   "outputs": [],
   "source": []
  },
  {
   "cell_type": "code",
   "execution_count": null,
   "id": "35d9e9c6",
   "metadata": {},
   "outputs": [],
   "source": []
  },
  {
   "cell_type": "code",
   "execution_count": 75,
   "id": "fbe98bd2",
   "metadata": {},
   "outputs": [],
   "source": []
  },
  {
   "cell_type": "code",
   "execution_count": null,
   "id": "68934273",
   "metadata": {},
   "outputs": [],
   "source": []
  },
  {
   "cell_type": "code",
   "execution_count": null,
   "id": "7f493bf4",
   "metadata": {},
   "outputs": [],
   "source": []
  },
  {
   "cell_type": "code",
   "execution_count": null,
   "id": "101d4acd",
   "metadata": {},
   "outputs": [],
   "source": []
  },
  {
   "cell_type": "code",
   "execution_count": null,
   "id": "ae645a9e",
   "metadata": {},
   "outputs": [],
   "source": []
  }
 ],
 "metadata": {
  "kernelspec": {
   "display_name": "Python 3",
   "language": "python",
   "name": "python3"
  },
  "language_info": {
   "codemirror_mode": {
    "name": "ipython",
    "version": 3
   },
   "file_extension": ".py",
   "mimetype": "text/x-python",
   "name": "python",
   "nbconvert_exporter": "python",
   "pygments_lexer": "ipython3",
   "version": "3.8.8"
  }
 },
 "nbformat": 4,
 "nbformat_minor": 5
}
