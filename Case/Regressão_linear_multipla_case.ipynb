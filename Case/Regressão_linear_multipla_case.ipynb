#Regressão Linear Múltipla

import pandas as pd

base = pd.read_csv("C:/Users/adriano.torres/Desktop/Curso_ML/dados.csv")

base.dropna(inplace = True) 

X = base.iloc[:, 4:22].values
y = base.iloc[:, 22].values

from sklearn.preprocessing import StandardScaler
scaler = StandardScaler()
X = scaler.fit_transform(X)

from sklearn.model_selection import train_test_split
X_treinamento, X_teste, y_treinamento, y_teste = train_test_split(X, y,
                                                                  test_size = 0.3,
                                                                  random_state = 0)
from sklearn.linear_model import LinearRegression
regressor = LinearRegression()
regressor.fit(X_treinamento, y_treinamento)
score = regressor.score(X_treinamento, y_treinamento)

previsoes = regressor.predict(X_teste)
from sklearn.metrics import mean_absolute_error, mean_squared_error
mae = mean_absolute_error(y_teste, previsoes)

regressor.score(X_teste, y_teste)

regressor.intercept_
len(regressor.coef_)
